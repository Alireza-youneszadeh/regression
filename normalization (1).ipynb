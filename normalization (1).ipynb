{
  "cells": [
    {
      "cell_type": "code",
      "execution_count": 34,
      "metadata": {
        "id": "vAWIgsrxF09C"
      },
      "outputs": [],
      "source": [
        "import numpy as np\n",
        "import statistics"
      ]
    },
    {
      "cell_type": "markdown",
      "source": [
        "importing pertinent packages for vectorization(numpy) and for statistics\n"
      ],
      "metadata": {
        "id": "J8baRgZj_xVn"
      }
    },
    {
      "cell_type": "code",
      "source": [
        "def max_division(x):\n",
        "\n",
        "    max_value=max(x)\n",
        "    normalized=np.array(x)/max_value  # deviding each element over maximum value of feature\n",
        "    return normalized"
      ],
      "metadata": {
        "id": "dPxsaEZ1F87Y"
      },
      "execution_count": 35,
      "outputs": []
    },
    {
      "cell_type": "code",
      "execution_count": 36,
      "metadata": {
        "colab": {
          "base_uri": "https://localhost:8080/"
        },
        "id": "09dGdSywF09L",
        "outputId": "a2905b74-a3f1-492d-9100-2572ba440b5a"
      },
      "outputs": [
        {
          "output_type": "stream",
          "name": "stdout",
          "text": [
            "[0.152207   0.23439878 0.38660578 1.        ]\n"
          ]
        }
      ],
      "source": [
        "data=[100,154,254,657]\n",
        "stn=max_division(data)\n",
        "print(stn)"
      ]
    },
    {
      "cell_type": "code",
      "execution_count": 37,
      "metadata": {
        "id": "OelXATZCF09N"
      },
      "outputs": [],
      "source": [
        "def mean_normalization(x):\n",
        "\n",
        "    min_value=min(x) # getting the minimum value of feature\n",
        "    max_value=max(x) # getting the maximum value of feature\n",
        "    mean = sum(x) / len(x) # calculate the mean of feature\n",
        "\n",
        "    normalized=(np.array(x)-mean)/(max_value-min_value)\n",
        "    return  normalized\n",
        "\n",
        "\n",
        ""
      ]
    },
    {
      "cell_type": "code",
      "execution_count": 38,
      "metadata": {
        "colab": {
          "base_uri": "https://localhost:8080/"
        },
        "id": "HJp_RvVnF09O",
        "outputId": "7d44babc-dc5e-43b7-aa48-bbf494c205d1"
      },
      "outputs": [
        {
          "output_type": "stream",
          "name": "stdout",
          "text": [
            "[-0.27297297 -0.20540541 -0.35405405  0.64594595  0.18648649]\n"
          ]
        }
      ],
      "source": [
        "data=[10,15,4,78,44]\n",
        "x=mean_normalization(data)\n",
        "print(x)"
      ]
    },
    {
      "cell_type": "code",
      "execution_count": 39,
      "metadata": {
        "id": "3hYWk1I-F09P"
      },
      "outputs": [],
      "source": [
        "\n",
        "def z_score(x):\n",
        "\n",
        "    mean = sum(x) / len(x)\n",
        "    deviation = statistics.stdev(x) # getting the deviation of feature's data\n",
        "    normalized=(np.array(x)-mean)/deviation\n",
        "    return normalized\n"
      ]
    },
    {
      "cell_type": "code",
      "execution_count": 40,
      "metadata": {
        "colab": {
          "base_uri": "https://localhost:8080/"
        },
        "id": "WBpu0o7TF09Q",
        "outputId": "a68b64d8-8fb5-4ad9-e6c2-e65879f2b7cc"
      },
      "outputs": [
        {
          "output_type": "stream",
          "name": "stdout",
          "text": [
            "[-1.13136094  0.540639    1.4806574   0.02825192  0.17850076 -1.09668813]\n"
          ]
        }
      ],
      "source": [
        "data=[111,545,789,412,451,120]\n",
        "x=z_score(data)\n",
        "print(x)\n"
      ]
    },
    {
      "cell_type": "code",
      "execution_count": 41,
      "metadata": {
        "id": "AtfMwXmCF09R"
      },
      "outputs": [],
      "source": [
        "def normalized(x,norm_type='z_score'): # the function for normalizing the data based on the type of normalization\n",
        "    if norm_type=='max_division':\n",
        "       max_value=max(x)\n",
        "       normalized=np.array(x)/max_value\n",
        "    elif norm_type==' mean_normalization':\n",
        "         min_value=min(x)\n",
        "         max_value=max(x)\n",
        "         mean = sum(x) / len(x)\n",
        "         normalized=(np.array(x)-mean)/(max_value-min_value)\n",
        "    elif norm_type=='z_score':\n",
        "         mean = sum(x) / len(x)\n",
        "         deviation = statistics.stdev(x)\n",
        "         normalized=(np.array(x)-mean)/deviation\n",
        "    return normalized"
      ]
    },
    {
      "cell_type": "code",
      "execution_count": 42,
      "metadata": {
        "colab": {
          "base_uri": "https://localhost:8080/"
        },
        "id": "Sorgke7UF09S",
        "outputId": "071e7600-b6d1-42a8-a3ae-b9582379e8b6"
      },
      "outputs": [
        {
          "output_type": "execute_result",
          "data": {
            "text/plain": [
              "array([0.        , 0.11111111, 0.22222222, 0.33333333, 0.44444444,\n",
              "       0.55555556, 0.66666667, 0.77777778, 0.88888889, 1.        ])"
            ]
          },
          "metadata": {},
          "execution_count": 42
        }
      ],
      "source": [
        "x=range(10)\n",
        "test=normalized(x,norm_type='max_division')\n",
        "test"
      ]
    }
  ],
  "metadata": {
    "kernelspec": {
      "display_name": "Python 3",
      "language": "python",
      "name": "python3"
    },
    "language_info": {
      "codemirror_mode": {
        "name": "ipython",
        "version": 3
      },
      "file_extension": ".py",
      "mimetype": "text/x-python",
      "name": "python",
      "nbconvert_exporter": "python",
      "pygments_lexer": "ipython3",
      "version": "3.7.3"
    },
    "colab": {
      "provenance": []
    }
  },
  "nbformat": 4,
  "nbformat_minor": 0
}